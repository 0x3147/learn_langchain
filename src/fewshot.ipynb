{
 "cells": [
  {
   "cell_type": "code",
   "execution_count": 1,
   "metadata": {},
   "outputs": [],
   "source": [
    "from dotenv import load_dotenv\n",
    "import os\n",
    "\n",
    "load_dotenv()\n",
    "\n",
    "api_key = os.environ[\"DEEPSEEK_API_KEY\"]\n",
    "api_url = os.environ[\"DEEPSEEK_API_URL\"]"
   ]
  },
  {
   "cell_type": "code",
   "execution_count": 4,
   "metadata": {},
   "outputs": [
    {
     "name": "stdout",
     "output_type": "stream",
     "text": [
      "content='“2 🦜 9” 是一个结合数字和表情符号的谜题，通常需要根据谐音或联想来解读。以下是可能的解释：\\n\\n1. **谐音联想**  \\n   - **🦜（鹦鹉）** 的拼音是 *yīng wǔ*，谐音像“英五”。  \\n   - 数字部分“2”和“9”可以分别读作“二”（èr）和“九”（jiǔ）。  \\n   - 组合起来可能是 **“二英五九”** → 联想谐音 **“爱鹦鹉酒”**（ài yīng wǔ jiǔ），但不太通顺。  \\n   - 另一种可能是将“鹦鹉”拆解为“婴”（yīng）+“武”（wǔ），但关联性较弱。\\n\\n2. **表情符号替代文字**  \\n   - 用“鹦鹉”象征“鸟”（niǎo），而“鸟”在俚语中有时代指男性生殖器（需注意语境）。  \\n   - 但“2 鸟 9”仍缺乏明确含义，可能需结合其他梗或文化背景。\\n\\n3. **网络或特定圈子梗**  \\n   - 可能是某个社群的内部暗号，比如游戏术语、粉丝代号等，需更多上下文。\\n\\n4. **数学或符号创意**  \\n   - 若将🦜视为字母“P”（形状像鹦鹉的钩嘴），可能拼出“2P9”之类的缩写，但意义不明。\\n\\n**最可能的解释**：  \\n“2 🦜 9” 更像是一个**谐音梗**，类似“520”（我爱你）的数字游戏。  \\n- “2” = 爱（谐音）  \\n- “🦜” = 鹦鹉（yīng wǔ）→ 可能谐音“英武”或“永久”  \\n- “9” = 久（jiǔ）  \\n组合可能是 **“爱英武久”** 或 **“爱永久”**（不太确定，需具体语境）。\\n\\n**建议**：如果来自特定语境（如社交媒体、游戏等），可补充说明以便更精准解答！' additional_kwargs={'refusal': None} response_metadata={'token_usage': {'completion_tokens': 455, 'prompt_tokens': 12, 'total_tokens': 467, 'completion_tokens_details': None, 'prompt_tokens_details': {'audio_tokens': None, 'cached_tokens': 0}, 'prompt_cache_hit_tokens': 0, 'prompt_cache_miss_tokens': 12}, 'model_name': 'deepseek-chat', 'system_fingerprint': 'fp_3d5141a69a_prod0225', 'id': 'fe9f51d0-dcd9-483d-8afe-009c3879eb5a', 'finish_reason': 'stop', 'logprobs': None} id='run-cc3f77f6-0d78-43bc-ab36-fc14ed532f44-0' usage_metadata={'input_tokens': 12, 'output_tokens': 455, 'total_tokens': 467, 'input_token_details': {'cache_read': 0}, 'output_token_details': {}}\n"
     ]
    }
   ],
   "source": [
    "from langchain_deepseek import ChatDeepSeek\n",
    "\n",
    "model = ChatDeepSeek(\n",
    "  model=\"deepseek-chat\",\n",
    "  temperature=0.0,\n",
    "  api_key=api_key,\n",
    "  base_url=api_url,\n",
    ")\n",
    "\n",
    "res = model.invoke(\"2 🦜 9代表什么?\")\n",
    "print(res)"
   ]
  },
  {
   "cell_type": "code",
   "execution_count": 3,
   "metadata": {},
   "outputs": [
    {
     "name": "stdout",
     "output_type": "stream",
     "text": [
      "[HumanMessage(content='2 🦜 2', additional_kwargs={}, response_metadata={}), AIMessage(content='4', additional_kwargs={}, response_metadata={}), HumanMessage(content='2 🦜 3', additional_kwargs={}, response_metadata={}), AIMessage(content='5', additional_kwargs={}, response_metadata={})]\n"
     ]
    }
   ],
   "source": [
    "#增加示例\n",
    "#使用FewShotChatMessagePromptTemplate\n",
    "from langchain_core.prompts import ChatPromptTemplate, FewShotChatMessagePromptTemplate\n",
    "#增加示例组\n",
    "examples = [\n",
    "    {\"input\": \"2 🦜 2\", \"output\": \"4\"},\n",
    "    {\"input\": \"2 🦜 3\", \"output\": \"5\"},\n",
    "]\n",
    "#构造提示词模板\n",
    "example_prompt = ChatPromptTemplate.from_messages(\n",
    "    [\n",
    "        (\"human\", \"{input}\"),\n",
    "        (\"ai\", \"{output}\"),\n",
    "    ]\n",
    ")\n",
    "#组合示例与提示词\n",
    "few_shot_prompt = FewShotChatMessagePromptTemplate(\n",
    "    example_prompt=example_prompt,\n",
    "    examples=examples,\n",
    ")\n",
    "#打印提示词模板\n",
    "print(few_shot_prompt.invoke({}).to_messages())"
   ]
  },
  {
   "cell_type": "code",
   "execution_count": 5,
   "metadata": {},
   "outputs": [],
   "source": [
    "## 最终提示词\n",
    "final_prompt = ChatPromptTemplate.from_messages(\n",
    "    [\n",
    "        (\"system\", \"你是一位神奇的数学奇才\"),\n",
    "        few_shot_prompt,\n",
    "        (\"human\", \"{input}\"),\n",
    "    ]\n",
    ")"
   ]
  },
  {
   "cell_type": "code",
   "execution_count": 6,
   "metadata": {},
   "outputs": [
    {
     "name": "stdout",
     "output_type": "stream",
     "text": [
      "content='11  \\n\\nThe pattern is: **2 🦜 N = 2 + N**  \\n\\nSo, **2 🦜 9 = 2 + 9 = 11**.  \\n\\n(It seems the parrot (🦜) is just adding the two numbers together!) 🦜➕' additional_kwargs={'refusal': None} response_metadata={'token_usage': {'completion_tokens': 61, 'prompt_tokens': 39, 'total_tokens': 100, 'completion_tokens_details': None, 'prompt_tokens_details': {'audio_tokens': None, 'cached_tokens': 0}, 'prompt_cache_hit_tokens': 0, 'prompt_cache_miss_tokens': 39}, 'model_name': 'deepseek-chat', 'system_fingerprint': 'fp_3d5141a69a_prod0225', 'id': 'dc21d591-0566-4be0-b2b8-43d5d9f86c88', 'finish_reason': 'stop', 'logprobs': None} id='run-145cc580-7598-4064-9d9e-17d31fc08908-0' usage_metadata={'input_tokens': 39, 'output_tokens': 61, 'total_tokens': 100, 'input_token_details': {'cache_read': 0}, 'output_token_details': {}}\n"
     ]
    }
   ],
   "source": [
    "##重新提问\n",
    "chain = final_prompt | model\n",
    "result = chain.invoke({\"input\": \"What is 2 🦜 9?\"})\n",
    "print(result)"
   ]
  },
  {
   "cell_type": "code",
   "execution_count": null,
   "metadata": {},
   "outputs": [],
   "source": []
  }
 ],
 "metadata": {
  "kernelspec": {
   "display_name": ".venv",
   "language": "python",
   "name": "python3"
  },
  "language_info": {
   "codemirror_mode": {
    "name": "ipython",
    "version": 3
   },
   "file_extension": ".py",
   "mimetype": "text/x-python",
   "name": "python",
   "nbconvert_exporter": "python",
   "pygments_lexer": "ipython3",
   "version": "3.12.2"
  }
 },
 "nbformat": 4,
 "nbformat_minor": 2
}
