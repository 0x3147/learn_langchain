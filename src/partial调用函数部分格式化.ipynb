{
 "cells": [
  {
   "cell_type": "code",
   "execution_count": 3,
   "metadata": {},
   "outputs": [
    {
     "name": "stdout",
     "output_type": "stream",
     "text": [
      "Tell me a funny joke about the day 2025-04-08 16:54:46\n"
     ]
    }
   ],
   "source": [
    "from datetime import datetime\n",
    "from langchain_core.prompts import PromptTemplate\n",
    "\n",
    "def _get_datetime():\n",
    "  now = datetime.now()\n",
    "  return now.strftime(\"%Y-%m-%d %H:%M:%S\")\n",
    "\n",
    "prompt = PromptTemplate(\n",
    "  template=\"Tell me a {adjective} joke about the day {date}\",\n",
    "  input_variables=[\"adjective\", \"subject\"]\n",
    ")\n",
    "\n",
    "partial_prompt = prompt.partial(adjective=\"funny\")\n",
    "print(partial_prompt.format(date=_get_datetime()))\n"
   ]
  },
  {
   "cell_type": "code",
   "execution_count": null,
   "metadata": {},
   "outputs": [],
   "source": []
  }
 ],
 "metadata": {
  "kernelspec": {
   "display_name": ".venv",
   "language": "python",
   "name": "python3"
  },
  "language_info": {
   "codemirror_mode": {
    "name": "ipython",
    "version": 3
   },
   "file_extension": ".py",
   "mimetype": "text/x-python",
   "name": "python",
   "nbconvert_exporter": "python",
   "pygments_lexer": "ipython3",
   "version": "3.12.2"
  }
 },
 "nbformat": 4,
 "nbformat_minor": 2
}
