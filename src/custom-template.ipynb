{
 "cells": [
  {
   "metadata": {
    "ExecuteTime": {
     "end_time": "2025-03-27T15:41:53.370428Z",
     "start_time": "2025-03-27T15:41:53.362769Z"
    }
   },
   "cell_type": "code",
   "source": [
    "from langchain_core.prompts import StringPromptTemplate\n",
    "import inspect\n",
    "from typing_extensions import override\n",
    "\n",
    "def hello_world(abc):\n",
    "    print(\"Hello World!\")\n",
    "    return abc\n",
    "\n",
    "PROMPT = \"\"\"\\\n",
    "你是一个非常有经验和天赋的程序员，现在给你如下函数名称，你会按照如下格式，输出这段代码名称、源代码、中文解释。\n",
    "函数名称：{function_name}\n",
    "源代码：\n",
    "{source_code}\n",
    "\"\"\"\n",
    "\n",
    "def get_source_code(function_name):\n",
    "    # 获取源代码\n",
    "    return inspect.getsource(function_name)\n",
    "\n",
    "class CustomPrompt(StringPromptTemplate):\n",
    "    @override\n",
    "    def format(self, **kwargs):\n",
    "        source_code = get_source_code(kwargs[\"function_name\"])\n",
    "        prompt = PROMPT.format(\n",
    "            function_name=kwargs[\"function_name\"].__name__,\n",
    "            source_code=source_code\n",
    "        )\n",
    "        return prompt\n",
    "\n",
    "a = CustomPrompt(input_variables=[\"function_name\"])\n",
    "pm = a.format(function_name=hello_world)\n",
    "\n",
    "print(pm)\n"
   ],
   "id": "fece40c9d44c28ad",
   "outputs": [
    {
     "name": "stdout",
     "output_type": "stream",
     "text": [
      "你是一个非常有经验和天赋的程序员，现在给你如下函数名称，你会按照如下格式，输出这段代码名称、源代码、中文解释。\n",
      "函数名称：hello_world\n",
      "源代码：\n",
      "def hello_world(abc):\n",
      "    print(\"Hello World!\")\n",
      "    return abc\n",
      "\n",
      "\n"
     ]
    }
   ],
   "execution_count": 16
  },
  {
   "metadata": {
    "ExecuteTime": {
     "end_time": "2025-03-27T15:41:42.384268Z",
     "start_time": "2025-03-27T15:41:41.993632Z"
    }
   },
   "cell_type": "code",
   "source": [
    "from dotenv import load_dotenv\n",
    "import os\n",
    "from langchain_deepseek import ChatDeepSeek\n",
    "\n",
    "load_dotenv()\n",
    "\n",
    "os.environ[\"DEEPSEEK_API_KEY\"] = os.getenv(\"DEEPSEEK_API_KEY\")\n",
    "os.environ[\"DEEPSEEK_API_URL\"] = os.getenv(\"DEEPSEEK_API_URL\")\n",
    "\n",
    "llm = ChatDeepSeek(\n",
    "  model = \"deepseek-chat\",\n",
    "  temperature = 0,\n",
    "  api_key = os.getenv(\"DEEPSEEK_API_KEY\"),\n",
    "  base_url = os.getenv(\"DEEPSEEK_API_URL\"),\n",
    ")"
   ],
   "id": "5bf6fec2912ccad2",
   "outputs": [],
   "execution_count": 15
  },
  {
   "metadata": {
    "ExecuteTime": {
     "end_time": "2025-03-27T15:42:36.248719Z",
     "start_time": "2025-03-27T15:42:23.052711Z"
    }
   },
   "cell_type": "code",
   "source": [
    "message = llm.invoke(pm)\n",
    "print(message)"
   ],
   "id": "8d67a982a07a67b8",
   "outputs": [
    {
     "name": "stdout",
     "output_type": "stream",
     "text": [
      "content='好的，我将按照您要求的格式输出函数信息：\\n\\n函数名称：hello_world\\n\\n源代码：\\n```python\\ndef hello_world(abc):\\n    \"\"\"打印Hello World并返回输入参数\\n    \\n    Args:\\n        abc: 任意类型的输入参数\\n        \\n    Returns:\\n        返回输入的abc参数\\n    \"\"\"\\n    print(\"Hello World!\")\\n    return abc\\n```\\n\\n中文解释：\\n1. 这是一个名为hello_world的Python函数\\n2. 函数接收一个参数abc（可以是任意类型）\\n3. 函数执行时会打印\"Hello World!\"字符串\\n4. 最后会将接收到的参数abc原样返回\\n5. 函数包含完整的docstring文档字符串，说明了参数和返回值\\n6. 这是一个经典的编程入门示例的变体，增加了参数传递和返回功能\\n\\n典型调用示例：\\n```python\\nresult = hello_world(123)  # 会打印Hello World!并返回123\\n```' additional_kwargs={'refusal': None} response_metadata={'token_usage': {'completion_tokens': 191, 'prompt_tokens': 58, 'total_tokens': 249, 'completion_tokens_details': None, 'prompt_tokens_details': {'audio_tokens': None, 'cached_tokens': 0}, 'prompt_cache_hit_tokens': 0, 'prompt_cache_miss_tokens': 58}, 'model_name': 'deepseek-chat', 'system_fingerprint': 'fp_3d5141a69a_prod0225', 'id': '5aa1190e-7a29-4b34-9204-f68c43283443', 'finish_reason': 'stop', 'logprobs': None} id='run-80626e93-1a94-4365-a7c9-aa1be2e139a1-0' usage_metadata={'input_tokens': 58, 'output_tokens': 191, 'total_tokens': 249, 'input_token_details': {'cache_read': 0}, 'output_token_details': {}}\n"
     ]
    }
   ],
   "execution_count": 17
  },
  {
   "metadata": {},
   "cell_type": "code",
   "outputs": [],
   "execution_count": null,
   "source": "",
   "id": "e932f476a8c152e7"
  }
 ],
 "metadata": {
  "kernelspec": {
   "display_name": "Python 3",
   "language": "python",
   "name": "python3"
  },
  "language_info": {
   "codemirror_mode": {
    "name": "ipython",
    "version": 2
   },
   "file_extension": ".py",
   "mimetype": "text/x-python",
   "name": "python",
   "nbconvert_exporter": "python",
   "pygments_lexer": "ipython2",
   "version": "2.7.6"
  }
 },
 "nbformat": 4,
 "nbformat_minor": 5
}
